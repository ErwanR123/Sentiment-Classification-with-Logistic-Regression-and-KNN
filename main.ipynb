{
 "cells": [
  {
   "cell_type": "markdown",
   "metadata": {},
   "source": [
    "\n",
    "# Analyse de sentiment sur des critiques IMDB\n",
    "\n"
   ]
  },
  {
   "cell_type": "code",
   "execution_count": 1,
   "metadata": {},
   "outputs": [
    {
     "name": "stderr",
     "output_type": "stream",
     "text": [
      "[nltk_data] Error loading stopwords: <urlopen error [SSL:\n",
      "[nltk_data]     CERTIFICATE_VERIFY_FAILED] certificate verify failed:\n",
      "[nltk_data]     unable to get local issuer certificate (_ssl.c:992)>\n"
     ]
    }
   ],
   "source": [
    "# Import des bibliothèques nécessaires\n",
    "import pandas as pd\n",
    "import numpy as np\n",
    "import re\n",
    "import nltk\n",
    "import joblib\n",
    "import matplotlib.pyplot as plt\n",
    "import seaborn as sns\n",
    "\n",
    "from nltk.corpus import stopwords\n",
    "from sklearn.model_selection import train_test_split\n",
    "from sklearn.metrics import (\n",
    "    accuracy_score, classification_report, confusion_matrix,\n",
    "    ConfusionMatrixDisplay, roc_curve, auc, f1_score\n",
    ")\n",
    "from sklearn.feature_extraction.text import TfidfVectorizer\n",
    "from sklearn.linear_model import LogisticRegression\n",
    "from sklearn.neighbors import KNeighborsClassifier\n",
    "from sklearn.preprocessing import LabelEncoder\n",
    "\n",
    "# Téléchargement des stopwords NLTK\n",
    "nltk.download('stopwords')\n",
    "stop_words = set(stopwords.words('english'))"
   ]
  },
  {
   "cell_type": "markdown",
   "metadata": {},
   "source": [
    "\n",
    "\n",
    "# Étape 1 : Chargement et prétraitement du dataset\n"
   ]
  },
  {
   "cell_type": "code",
   "execution_count": 2,
   "metadata": {},
   "outputs": [],
   "source": [
    "\n",
    "\n",
    "# Fonction de nettoyage de texte\n",
    "def clean_text(text):\n",
    "    text = re.sub(r'<.*?>', '', text)  # suppression balises HTML\n",
    "    text = re.sub(r'[^a-zA-Z\\s]', '', text)  # suppression ponctuation et chiffres\n",
    "    text = text.lower()\n",
    "    text = re.sub(r'\\s+', ' ', text).strip()\n",
    "    return text\n",
    "\n",
    "# Fonction de prétraitement\n",
    "def preprocess(text):\n",
    "    text = clean_text(text)\n",
    "    tokens = text.split()\n",
    "    return ' '.join([word for word in tokens if word not in stop_words])\n",
    "\n",
    "# Chargement du dataset (5000 échantillons pour des raisons de performance)\n",
    "df = pd.read_csv('/Users/r1/Desktop/Classification commentaires positifs et négatifs mémoire/IMDB Dataset.csv', nrows=5000)\n",
    "\n",
    "# Application du prétraitement\n",
    "df['clean_review'] = df['review'].apply(preprocess)\n",
    "\n",
    "# Encodage des labels : 0 = negative, 1 = positive\n",
    "encoder = LabelEncoder()\n",
    "df['label'] = encoder.fit_transform(df['sentiment'])"
   ]
  },
  {
   "cell_type": "markdown",
   "metadata": {},
   "source": [
    "\n",
    "\n",
    "# Étape 2 : Vectorisation avec TF-IDF\n"
   ]
  },
  {
   "cell_type": "code",
   "execution_count": 3,
   "metadata": {},
   "outputs": [],
   "source": [
    "\n",
    "\n",
    "vectorizer = TfidfVectorizer(max_features=5000)\n",
    "X = vectorizer.fit_transform(df['clean_review'])\n",
    "y = df['label']\n",
    "\n",
    "# Séparation en ensemble d'entraînement/test\n",
    "X_train, X_test, y_train, y_test = train_test_split(X, y, test_size=0.2, random_state=42)"
   ]
  },
  {
   "cell_type": "markdown",
   "metadata": {},
   "source": [
    "\n",
    "\n",
    "\n",
    "# Étape 3 : Entraînement des modèles\n"
   ]
  },
  {
   "cell_type": "code",
   "execution_count": 4,
   "metadata": {},
   "outputs": [],
   "source": [
    "\n",
    "# KNN\n",
    "knn = KNeighborsClassifier(n_neighbors=5)\n",
    "knn.fit(X_train, y_train)\n",
    "y_pred_knn = knn.predict(X_test)\n",
    "\n",
    "# Régression Logistique\n",
    "logreg = LogisticRegression(max_iter=1000)\n",
    "logreg.fit(X_train, y_train)\n",
    "y_pred_logreg = logreg.predict(X_test)"
   ]
  },
  {
   "cell_type": "markdown",
   "metadata": {},
   "source": [
    "\n",
    "\n",
    "\n",
    "# Étape 4 : Évaluation des modèles\n"
   ]
  },
  {
   "cell_type": "code",
   "execution_count": null,
   "metadata": {},
   "outputs": [
    {
     "name": "stdout",
     "output_type": "stream",
     "text": [
      "\n",
      "📊 Évaluation - KNN\n",
      "              precision    recall  f1-score   support\n",
      "\n",
      "           0       0.75      0.73      0.74       530\n",
      "           1       0.70      0.72      0.71       470\n",
      "\n",
      "    accuracy                           0.72      1000\n",
      "   macro avg       0.72      0.72      0.72      1000\n",
      "weighted avg       0.73      0.72      0.73      1000\n",
      "\n",
      "✅ Accuracy: 0.7250 | F1-score: 0.7120\n"
     ]
    },
    {
     "data": {
      "image/png": "[encoded data removed]",
      "text/plain": [
       "<Figure size 640x480 with 2 Axes>"
      ]
     },
     "metadata": {},
     "output_type": "display_data"
    },
    {
     "name": "stdout",
     "output_type": "stream",
     "text": [
      "\n",
      "📊 Évaluation - Régression Logistique\n",
      "              precision    recall  f1-score   support\n",
      "\n",
      "           0       0.89      0.87      0.88       530\n",
      "           1       0.85      0.88      0.87       470\n",
      "\n",
      "    accuracy                           0.87      1000\n",
      "   macro avg       0.87      0.87      0.87      1000\n",
      "weighted avg       0.87      0.87      0.87      1000\n",
      "\n",
      "✅ Accuracy: 0.8720 | F1-score: 0.8655\n"
     ]
    },
    {
     "data": {
      "image/png": "[encoded data removed]",
      "text/plain": [
       "<Figure size 640x480 with 2 Axes>"
      ]
     },
     "metadata": {},
     "output_type": "display_data"
    },
    {
     "data": {
      "text/plain": [
       "['tfidf_vectorizer.pkl']"
      ]
     },
     "execution_count": 5,
     "metadata": {},
     "output_type": "execute_result"
    }
   ],
   "source": [
    "def evaluate_model(y_true, y_pred, model_name):\n",
    "    print(f\"\\n Évaluation - {model_name}\")\n",
    "    print(classification_report(y_true, y_pred))\n",
    "    acc = accuracy_score(y_true, y_pred)\n",
    "    f1 = f1_score(y_true, y_pred)\n",
    "    print(f\" Accuracy: {acc:.4f} | F1-score: {f1:.4f}\")\n",
    "    cm = confusion_matrix(y_true, y_pred)\n",
    "    disp = ConfusionMatrixDisplay(confusion_matrix=cm)\n",
    "    disp.plot()\n",
    "    plt.title(f\"Matrice de confusion - {model_name}\")\n",
    "    plt.grid(False)\n",
    "    plt.show()\n",
    "\n",
    "# Évaluation des deux modèles\n",
    "evaluate_model(y_test, y_pred_knn, \"KNN\")\n",
    "evaluate_model(y_test, y_pred_logreg, \"Régression Logistique\")\n",
    "\n",
    "# Sauvegarde du modèle logistique pour interface utilisateur\n",
    "joblib.dump(logreg, \"logreg_model.pkl\")\n",
    "joblib.dump(vectorizer, \"tfidf_vectorizer.pkl\")"
   ]
  },
  {
   "cell_type": "markdown",
   "metadata": {},
   "source": [
    "Les résultats obtenus montrent que la régression logistique offre de meilleures performances que le modèle KNN, avec une accuracy de 87,2 % et un F1-score de 86,6 %, contre 72,5 % et 71,2 % pour KNN. La matrice de confusion confirme également une meilleure capacité de la régression logistique à bien distinguer les classes. Ces résultats plus solides et constants justifient le choix de ce modèle comme solution finale pour notre tâche d’analyse de sentiment."
   ]
  },
  {
   "cell_type": "markdown",
   "metadata": {},
   "source": [
    "\n",
    "\n",
    "# Étape 5 : Interface utilisateur en console (logistic regression uniquement)\n"
   ]
  },
  {
   "cell_type": "code",
   "execution_count": null,
   "metadata": {},
   "outputs": [
    {
     "name": "stdout",
     "output_type": "stream",
     "text": [
      "\n",
      " Testez votre propre commentaire (en anglais)\n",
      "\n",
      " Résultat : POSITIF (70.86% de confiance)\n"
     ]
    }
   ],
   "source": [
    "\n",
    "\n",
    "\n",
    "def predict_comment():\n",
    "    print(\"\\n Testez votre propre commentaire (en anglais)\")\n",
    "    user_input = input(\"Entrez un commentaire : \")\n",
    "    processed = preprocess(user_input)\n",
    "    vect = vectorizer.transform([processed])\n",
    "    prediction = logreg.predict(vect)[0]\n",
    "    proba = logreg.predict_proba(vect)[0][prediction]\n",
    "    sentiment = \"POSITIF\" if prediction == 1 else \"NÉGATIF\"\n",
    "    print(f\"\\n Résultat : {sentiment} ({proba:.2%} de confiance)\")\n",
    "\n",
    "# Optionnel : activer ce bloc pour que ça s’exécute à chaque fois\n",
    "#predict_comment()\n"
   ]
  }
 ],
 "metadata": {
  "kernelspec": {
   "display_name": "Python 3",
   "language": "python",
   "name": "python3"
  },
  "language_info": {
   "codemirror_mode": {
    "name": "ipython",
    "version": 3
   },
   "file_extension": ".py",
   "mimetype": "text/x-python",
   "name": "python",
   "nbconvert_exporter": "python",
   "pygments_lexer": "ipython3",
   "version": "3.11.1"
  }
 },
 "nbformat": 4,
 "nbformat_minor": 2
}
